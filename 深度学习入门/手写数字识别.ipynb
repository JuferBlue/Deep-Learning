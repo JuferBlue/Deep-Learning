{
 "cells": [
  {
   "cell_type": "markdown",
   "source": [
    "## 读入数据"
   ],
   "metadata": {
    "collapsed": false
   },
   "id": "dbf534a7165362d2"
  },
  {
   "cell_type": "code",
   "execution_count": 3,
   "id": "initial_id",
   "metadata": {
    "collapsed": true,
    "ExecuteTime": {
     "end_time": "2024-05-02T09:19:51.015656900Z",
     "start_time": "2024-05-02T09:19:50.978004600Z"
    }
   },
   "outputs": [
    {
     "name": "stdout",
     "output_type": "stream",
     "text": [
      "(60000, 784)\n",
      "(60000,)\n",
      "(10000, 784)\n",
      "(10000,)\n"
     ]
    }
   ],
   "source": [
    "from mnist import load_mnist\n",
    "\n",
    "# 下载且加载数据\n",
    "(x_train,t_train) , (x_test,t_test) = load_mnist(flatten=True,normalize=False)\n",
    "\n",
    "# 输入\n",
    "print(x_train.shape)\n",
    "print(t_train.shape)\n",
    "\n",
    "print(x_test.shape)\n",
    "print(t_test.shape)"
   ]
  },
  {
   "cell_type": "markdown",
   "source": [
    "**尝试显示一张图片**"
   ],
   "metadata": {
    "collapsed": false
   },
   "id": "b345400a279d0c87"
  },
  {
   "cell_type": "code",
   "outputs": [
    {
     "name": "stdout",
     "output_type": "stream",
     "text": [
      "5\n",
      "(784,)\n",
      "(28, 28)\n"
     ]
    }
   ],
   "source": [
    "import numpy as np\n",
    "\n",
    "from mnist import load_mnist\n",
    "from PIL import Image\n",
    "\n",
    "def img_show(img):\n",
    "    pil_img = Image.fromarray(np.uint8(img))\n",
    "    pil_img.show()\n",
    "\n",
    "\n",
    "(x_train,t_train) , (x_test,t_test) = load_mnist(flatten=True,normalize=False)\n",
    "img = x_train[0]\n",
    "label = t_train[0]\n",
    "print(label)\n",
    "\n",
    "print(img.shape)\n",
    "img = img.reshape(28,28)\n",
    "print(img.shape)\n",
    "\n",
    "img_show(img)\n"
   ],
   "metadata": {
    "collapsed": false,
    "ExecuteTime": {
     "end_time": "2024-05-02T10:10:48.892347800Z",
     "start_time": "2024-05-02T10:10:48.861202900Z"
    }
   },
   "id": "5b67dfa9c9bf10f6",
   "execution_count": 5
  }
 ],
 "metadata": {
  "kernelspec": {
   "name": "dl",
   "language": "python",
   "display_name": "DL"
  },
  "language_info": {
   "codemirror_mode": {
    "name": "ipython",
    "version": 2
   },
   "file_extension": ".py",
   "mimetype": "text/x-python",
   "name": "python",
   "nbconvert_exporter": "python",
   "pygments_lexer": "ipython2",
   "version": "2.7.6"
  }
 },
 "nbformat": 4,
 "nbformat_minor": 5
}
